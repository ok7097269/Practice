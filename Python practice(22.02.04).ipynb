{
 "cells": [
  {
   "cell_type": "code",
   "execution_count": 2,
   "id": "71e23e62",
   "metadata": {},
   "outputs": [
    {
     "data": {
      "text/plain": [
       "'Chris likes 3 word more than 5 word'"
      ]
     },
     "execution_count": 2,
     "metadata": {},
     "output_type": "execute_result"
    }
   ],
   "source": [
    "hi = 3\n",
    "hello = 5\n",
    "\n",
    "\"Chris likes {0} word more than {1} word\".format(hi,hello)"
   ]
  },
  {
   "cell_type": "code",
   "execution_count": 3,
   "id": "71c303cf",
   "metadata": {},
   "outputs": [
    {
     "data": {
      "text/plain": [
       "{'a': '사과', 'b': '바나나'}"
      ]
     },
     "execution_count": 3,
     "metadata": {},
     "output_type": "execute_result"
    }
   ],
   "source": [
    "Example = {\n",
    "    'a': '사과',\n",
    "    'b': '바나나'\n",
    "}\n",
    "\n",
    "Example"
   ]
  },
  {
   "cell_type": "code",
   "execution_count": 4,
   "id": "937a41ec",
   "metadata": {},
   "outputs": [
    {
     "data": {
      "text/plain": [
       "dict_keys(['a', 'b'])"
      ]
     },
     "execution_count": 4,
     "metadata": {},
     "output_type": "execute_result"
    }
   ],
   "source": [
    "Example.keys()"
   ]
  },
  {
   "cell_type": "markdown",
   "id": "060a2744",
   "metadata": {},
   "source": []
  },
  {
   "cell_type": "code",
   "execution_count": 5,
   "id": "1495d6ac",
   "metadata": {},
   "outputs": [
    {
     "data": {
      "text/plain": [
       "dict_values(['사과', '바나나'])"
      ]
     },
     "execution_count": 5,
     "metadata": {},
     "output_type": "execute_result"
    }
   ],
   "source": [
    "Example.values()"
   ]
  },
  {
   "cell_type": "code",
   "execution_count": null,
   "id": "c11f6f41",
   "metadata": {},
   "outputs": [],
   "source": []
  },
  {
   "cell_type": "code",
   "execution_count": 6,
   "id": "da37850c",
   "metadata": {},
   "outputs": [
    {
     "data": {
      "text/plain": [
       "[2, 4, 6, 8, 12, 14]"
      ]
     },
     "execution_count": 6,
     "metadata": {},
     "output_type": "execute_result"
    }
   ],
   "source": [
    "double_list = []\n",
    "\n",
    "for i in range(1,11):\n",
    "    if i == 5:\n",
    "        continue\n",
    "    \n",
    "    if i == 8:\n",
    "        break\n",
    "    \n",
    "    double = i * 2\n",
    "        \n",
    "    double_list.append(double)\n",
    "    \n",
    "double_list"
   ]
  },
  {
   "cell_type": "code",
   "execution_count": null,
   "id": "a33a1c3a",
   "metadata": {},
   "outputs": [],
   "source": [
    "4 = 4*3*2*1"
   ]
  },
  {
   "cell_type": "code",
   "execution_count": 12,
   "id": "fda71380",
   "metadata": {},
   "outputs": [
    {
     "name": "stdout",
     "output_type": "stream",
     "text": [
      "120\n"
     ]
    }
   ],
   "source": [
    "def factorial(n):\n",
    "    result = 1\n",
    "    for i in range(1, n + 1):\n",
    "        result = result * i\n",
    "    return result\n",
    "\n",
    "print(factorial(5))"
   ]
  },
  {
   "cell_type": "code",
   "execution_count": 13,
   "id": "080a0458",
   "metadata": {},
   "outputs": [
    {
     "name": "stdout",
     "output_type": "stream",
     "text": [
      "120\n"
     ]
    }
   ],
   "source": [
    "def factorial(n):\n",
    "    if n == 1:\n",
    "        return 1\n",
    "    else:\n",
    "        return n * factorial(n - 1)\n",
    "    \n",
    "print(factorial(5))"
   ]
  },
  {
   "cell_type": "code",
   "execution_count": null,
   "id": "faaa38ff",
   "metadata": {},
   "outputs": [],
   "source": []
  },
  {
   "cell_type": "code",
   "execution_count": 19,
   "id": "6d438c2f",
   "metadata": {},
   "outputs": [
    {
     "name": "stdout",
     "output_type": "stream",
     "text": [
      "[1]\n",
      "[2, 1]\n",
      "[5, 16, 8.0, 4.0, 2.0, 1]\n"
     ]
    }
   ],
   "source": [
    "def cycle(n):\n",
    "    if n == 1:\n",
    "        return [1]\n",
    "    if n % 2 == 0:\n",
    "        return [n] + cycle(n / 2)\n",
    "    else:\n",
    "        return [n] + cycle(3 * n + 1)\n",
    "\n",
    "print(cycle(1))\n",
    "print(cycle(2))\n",
    "print(cycle(5))"
   ]
  },
  {
   "cell_type": "code",
   "execution_count": 20,
   "id": "32363919",
   "metadata": {},
   "outputs": [
    {
     "name": "stdout",
     "output_type": "stream",
     "text": [
      "1\n",
      "2\n",
      "3\n",
      "4\n"
     ]
    }
   ],
   "source": [
    "for i in range(1, 5):\n",
    "    print(i)"
   ]
  },
  {
   "cell_type": "code",
   "execution_count": 23,
   "id": "abb3c604",
   "metadata": {},
   "outputs": [
    {
     "name": "stdout",
     "output_type": "stream",
     "text": [
      "1\n",
      "2\n",
      "clap!\n",
      "4\n",
      "5\n",
      "clap!\n",
      "7\n",
      "8\n",
      "clap!\n",
      "10\n"
     ]
    }
   ],
   "source": [
    "def game369(finish):\n",
    "    for n in range(1, finish + 1):\n",
    "        n_text = str(n)\n",
    "    \n",
    "        if \"3\" in n_text or \"6\" in n_text or \"9\" in n_text:\n",
    "            print(\"clap!\")\n",
    "        else:\n",
    "            print(n)\n",
    "\n",
    "game369(10)"
   ]
  },
  {
   "cell_type": "code",
   "execution_count": 25,
   "id": "538e2270",
   "metadata": {},
   "outputs": [
    {
     "name": "stdout",
     "output_type": "stream",
     "text": [
      "THISISNEW\n"
     ]
    }
   ],
   "source": [
    "def test(n):\n",
    "    n_text = str(n)\n",
    "    \n",
    "    if \"3\" in n_text:\n",
    "        print(\"THISISNEW\")\n",
    "    else:\n",
    "        print(\"NOOO\")\n",
    "\n",
    "test(36)"
   ]
  },
  {
   "cell_type": "code",
   "execution_count": 26,
   "id": "c5f39083",
   "metadata": {},
   "outputs": [
    {
     "data": {
      "text/plain": [
       "'36'"
      ]
     },
     "execution_count": 26,
     "metadata": {},
     "output_type": "execute_result"
    }
   ],
   "source": [
    "n = 36\n",
    "str(n)"
   ]
  },
  {
   "cell_type": "markdown",
   "id": "2e30303e",
   "metadata": {},
   "source": [
    "### "
   ]
  },
  {
   "cell_type": "code",
   "execution_count": 27,
   "id": "970a5f14",
   "metadata": {},
   "outputs": [
    {
     "data": {
      "text/plain": [
       "True"
      ]
     },
     "execution_count": 27,
     "metadata": {},
     "output_type": "execute_result"
    }
   ],
   "source": [
    "'3' in '36'"
   ]
  }
 ],
 "metadata": {
  "kernelspec": {
   "display_name": "Python 3 (ipykernel)",
   "language": "python",
   "name": "python3"
  },
  "language_info": {
   "codemirror_mode": {
    "name": "ipython",
    "version": 3
   },
   "file_extension": ".py",
   "mimetype": "text/x-python",
   "name": "python",
   "nbconvert_exporter": "python",
   "pygments_lexer": "ipython3",
   "version": "3.9.7"
  }
 },
 "nbformat": 4,
 "nbformat_minor": 5
}
